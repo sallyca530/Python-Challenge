{
 "cells": [
  {
   "cell_type": "code",
   "execution_count": null,
   "metadata": {},
   "outputs": [],
   "source": [
    "# In this Challenge, you are tasked with creating a Python script to analyze the financial records of your company. \n",
    "#You will be given a financial dataset called budget_data.csv. The dataset is composed of two columns: \"Date\" and \"Profit/Losses\".\n",
    "\n",
    "# Your task is to create a Python script that analyzes the records to calculate each of the following values:\n",
    "    # The total number of months included in the dataset\n",
    "    # The net total amount of \"Profit/Losses\" over the entire period\n",
    "    # The changes in \"Profit/Losses\" over the entire period, and then the average of those changes\n",
    "    # The greatest increase in profits (date and amount) over the entire period\n",
    "    # The greatest decrease in profits (date and amount) over the entire period"
   ]
  },
  {
   "cell_type": "code",
   "execution_count": 1,
   "metadata": {},
   "outputs": [],
   "source": [
    "# First we'll import the os module\n",
    "# This will allow us to create file paths across operating systems\n",
    "import os\n",
    "# Module for reading CSV files\n",
    "import csv\n",
    "from pathlib import Path "
   ]
  },
  {
   "cell_type": "code",
   "execution_count": 2,
   "metadata": {},
   "outputs": [
    {
     "name": "stdout",
     "output_type": "stream",
     "text": [
      "Path exists\n"
     ]
    }
   ],
   "source": [
    "path = \"../Resources/budget_data.csv\"\n",
    "if os.path.exists(path):\n",
    "    print(\"Path exists\")\n",
    "else:\n",
    "    print(\"Path does not exist\")"
   ]
  },
  {
   "cell_type": "code",
   "execution_count": 3,
   "metadata": {},
   "outputs": [
    {
     "name": "stdout",
     "output_type": "stream",
     "text": [
      " Volume in drive C is OS\n",
      " Volume Serial Number is E08B-CB24\n",
      "\n",
      " Directory of c:\\Users\\David Rios\\Desktop\\Homework\\Python-Challenge\\PyBank\\main.py\n",
      "\n",
      "10/16/2023  03:14 PM    <DIR>          .\n",
      "10/16/2023  03:14 PM    <DIR>          ..\n",
      "10/16/2023  05:58 PM             7,017 mainPyBank.ipynb\n",
      "               1 File(s)          7,017 bytes\n",
      "               2 Dir(s)  839,327,350,784 bytes free\n"
     ]
    }
   ],
   "source": [
    "! dir"
   ]
  },
  {
   "cell_type": "code",
   "execution_count": 4,
   "metadata": {},
   "outputs": [],
   "source": [
    "csvpath = os.path.join('..', 'Resources', 'budget_data.csv')"
   ]
  },
  {
   "cell_type": "code",
   "execution_count": 28,
   "metadata": {},
   "outputs": [],
   "source": [
    "total_months = 0\n",
    "total_net= 0\n",
    "previous_net = 0\n",
    "net = []\n",
    "month_of_change = []\n",
    "net_change = 0\n",
    "net_average = 0\n",
    "net_change_list = []\n",
    "greatest_increase = [\"\",0]\n",
    "greatest_decrease = [\"\", 9999999999999999999]\n"
   ]
  },
  {
   "cell_type": "code",
   "execution_count": 32,
   "metadata": {},
   "outputs": [
    {
     "name": "stdout",
     "output_type": "stream",
     "text": [
      "<_csv.reader object at 0x00000164E944B160>\n",
      "CSV Header: ['Date', 'Profit/Losses']\n",
      "25831147\n"
     ]
    },
    {
     "ename": "ValueError",
     "evalue": "invalid literal for int() with base 10: 'Jan-10'",
     "output_type": "error",
     "traceback": [
      "\u001b[1;31m---------------------------------------------------------------------------\u001b[0m",
      "\u001b[1;31mValueError\u001b[0m                                Traceback (most recent call last)",
      "\u001b[1;32mc:\\Users\\David Rios\\Desktop\\Homework\\Python-Challenge\\PyBank\\main.py\\mainPyBank.ipynb Cell 7\u001b[0m line \u001b[0;36m2\n\u001b[0;32m     <a href='vscode-notebook-cell:/c%3A/Users/David%20Rios/Desktop/Homework/Python-Challenge/PyBank/main.py/mainPyBank.ipynb#W6sZmlsZQ%3D%3D?line=17'>18</a>\u001b[0m total_net \u001b[39m=\u001b[39m total_net \u001b[39m+\u001b[39m \u001b[39mint\u001b[39m(row[\u001b[39m1\u001b[39m])\n\u001b[0;32m     <a href='vscode-notebook-cell:/c%3A/Users/David%20Rios/Desktop/Homework/Python-Challenge/PyBank/main.py/mainPyBank.ipynb#W6sZmlsZQ%3D%3D?line=18'>19</a>\u001b[0m \u001b[39mprint\u001b[39m(total_net)\n\u001b[1;32m---> <a href='vscode-notebook-cell:/c%3A/Users/David%20Rios/Desktop/Homework/Python-Challenge/PyBank/main.py/mainPyBank.ipynb#W6sZmlsZQ%3D%3D?line=20'>21</a>\u001b[0m total_months \u001b[39m=\u001b[39m total_months \u001b[39m+\u001b[39m \u001b[39mint\u001b[39;49m(row[\u001b[39m0\u001b[39;49m])\n\u001b[0;32m     <a href='vscode-notebook-cell:/c%3A/Users/David%20Rios/Desktop/Homework/Python-Challenge/PyBank/main.py/mainPyBank.ipynb#W6sZmlsZQ%3D%3D?line=21'>22</a>\u001b[0m \u001b[39mprint\u001b[39m(\u001b[39mf\u001b[39m\u001b[39m\"\u001b[39m\u001b[39mTotal months: \u001b[39m\u001b[39m{\u001b[39;00mtotal_months\u001b[39m}\u001b[39;00m\u001b[39m\"\u001b[39m)\n",
      "\u001b[1;31mValueError\u001b[0m: invalid literal for int() with base 10: 'Jan-10'"
     ]
    }
   ],
   "source": [
    "# Method 2: Improved Reading using CSV module\n",
    "\n",
    "with open(csvpath) as csvfile:\n",
    "    # CSV reader specifies delimiter and variable that holds contents\n",
    "    csvreader = csv.reader(csvfile)\n",
    "    print(csvreader)\n",
    "\n",
    "    # Read the header row first (skip this step if there is no header)\n",
    "    csv_header = next(csvreader)\n",
    "    print(f\"CSV Header: {csv_header}\")\n",
    "\n",
    "    # Read each row of data after the header\n",
    "    for row in csvreader:\n",
    "        #print(row)\n",
    "        #total_months = 1\n",
    "        #month_of_change = [month_of_change] + [row[0]]\n",
    "        #print(month_of_change)\n",
    "       total_net = total_net + int(row[1])\n",
    "       print(total_net)\n",
    "\n",
    "       total_months = total_months + row[0]\n",
    "       print(f\"Total months: {total_months}\")\n"
   ]
  }
 ],
 "metadata": {
  "kernelspec": {
   "display_name": "Python 3",
   "language": "python",
   "name": "python3"
  },
  "language_info": {
   "codemirror_mode": {
    "name": "ipython",
    "version": 3
   },
   "file_extension": ".py",
   "mimetype": "text/x-python",
   "name": "python",
   "nbconvert_exporter": "python",
   "pygments_lexer": "ipython3",
   "version": "3.11.5"
  }
 },
 "nbformat": 4,
 "nbformat_minor": 2
}
