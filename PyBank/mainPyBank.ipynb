{
 "cells": [
  {
   "cell_type": "code",
   "execution_count": 106,
   "metadata": {},
   "outputs": [],
   "source": [
    "# In this Challenge, you are tasked with creating a Python script to analyze the financial records of your company. \n",
    "# You will be given a financial dataset called budget_data.csv. The dataset is composed of two columns: \"Date\" and \"Profit/Losses\".\n",
    "\n",
    "# Your task is to create a Python script that analyzes the records to calculate each of the following values:\n",
    "#     The total number of months included in the dataset\n",
    "#     The net total amount of \"Profit/Losses\" over the entire period\n",
    "#     The changes in \"Profit/Losses\" over the entire period, and then the average of those changes\n",
    "#     The greatest increase in profits (date and amount) over the entire period\n",
    "#     The greatest decrease in profits (date and amount) over the entire period"
   ]
  },
  {
   "cell_type": "code",
   "execution_count": 107,
   "metadata": {},
   "outputs": [],
   "source": [
    "# First we'll import the os module\n",
    "# This will allow us to create file paths across operating systems\n",
    "import os\n",
    "# Module for reading CSV files\n",
    "import csv\n",
    "from pathlib import Path "
   ]
  },
  {
   "cell_type": "code",
   "execution_count": 108,
   "metadata": {},
   "outputs": [
    {
     "name": "stdout",
     "output_type": "stream",
     "text": [
      "Path exists\n"
     ]
    }
   ],
   "source": [
    "path = \"../Resources/budget_data.csv\"\n",
    "if os.path.exists(path):\n",
    "    print(\"Path exists\")\n",
    "else:\n",
    "    print(\"Path does not exist\")"
   ]
  },
  {
   "cell_type": "code",
   "execution_count": 109,
   "metadata": {},
   "outputs": [
    {
     "name": "stdout",
     "output_type": "stream",
     "text": [
      " Volume in drive C is OS\n",
      " Volume Serial Number is E08B-CB24\n",
      "\n",
      " Directory of c:\\Users\\David Rios\\Desktop\\Homework\\Python-Challenge\\PyBank\\main.py\n",
      "\n",
      "10/17/2023  11:19 AM    <DIR>          .\n",
      "10/17/2023  11:19 AM    <DIR>          ..\n",
      "10/17/2023  11:55 AM             5,598 mainPyBank.ipynb\n",
      "               1 File(s)          5,598 bytes\n",
      "               2 Dir(s)  839,226,793,984 bytes free\n"
     ]
    }
   ],
   "source": [
    "! dir"
   ]
  },
  {
   "cell_type": "code",
   "execution_count": 110,
   "metadata": {},
   "outputs": [],
   "source": [
    "csvpath = os.path.join('..', 'Resources', 'budget_data.csv')"
   ]
  },
  {
   "cell_type": "code",
   "execution_count": 111,
   "metadata": {},
   "outputs": [],
   "source": [
    "fin_data = []"
   ]
  },
  {
   "cell_type": "code",
   "execution_count": 112,
   "metadata": {},
   "outputs": [],
   "source": [
    "# total_months = 0\n",
    "# total_net= 0\n",
    "# previous_net = 0\n",
    "# total_net = []\n",
    "# total_months = []\n",
    "# month_of_change = []\n",
    "# net_change = 0\n",
    "# net_average = 0\n",
    "# net_change_list = []\n",
    "# greatest_increase = [\"\",0]\n",
    "# greatest_decrease = [\"\", 9999999999999999999]\n"
   ]
  },
  {
   "cell_type": "code",
   "execution_count": 113,
   "metadata": {},
   "outputs": [
    {
     "name": "stdout",
     "output_type": "stream",
     "text": [
      "<_csv.reader object at 0x00000164E9946680>\n",
      "CSV Header: ['Date', 'Profit/Losses']\n"
     ]
    }
   ],
   "source": [
    "# Method 2: Improved Reading using CSV module\n",
    "\n",
    "with open(csvpath) as csvfile:\n",
    "    # CSV reader specifies delimiter and variable that holds contents\n",
    "    csvreader = csv.reader(csvfile)\n",
    "    print(csvreader)\n",
    "\n",
    "    # Read the header row first (skip this step if there is no header)\n",
    "    csv_header = next(csvreader)\n",
    "    print(f\"CSV Header: {csv_header}\")\n",
    "\n",
    "    # Read each row of data after the header\n",
    "    for row in csvreader:\n",
    "        #print(row)\n",
    "        #create dictionary\n",
    "        fin_data.append({\"month\": row[0], \"Profit/Losses\": int(row[1]), \"Changes\": 0})\n",
    "\n",
    "        # total_net = total_net + int(row[1])\n",
    "        # print(f\"Total net: {total_net}\")\n",
    "        # previous_net = float(row[1])\n",
    "        # net_change = float(row[1]) - previous_net\n",
    "        # total_months = total_months + row[0]\n",
    "        # print(f\"Total months: {total_months}\")"
   ]
  },
  {
   "cell_type": "code",
   "execution_count": 114,
   "metadata": {},
   "outputs": [
    {
     "data": {
      "text/plain": [
       "86"
      ]
     },
     "execution_count": 114,
     "metadata": {},
     "output_type": "execute_result"
    }
   ],
   "source": [
    "total_months = len(fin_data)\n",
    "total_months"
   ]
  },
  {
   "cell_type": "code",
   "execution_count": 115,
   "metadata": {},
   "outputs": [],
   "source": [
    "prev_amount = fin_data[0][\"Profit/Losses\"]\n",
    "for i in range(total_months):\n",
    "    fin_data[i][\"Changes\"] = fin_data[i][\"Profit/Losses\"] - prev_amount\n",
    "    prev_amount = fin_data[i][\"Profit/Losses\"]"
   ]
  },
  {
   "cell_type": "code",
   "execution_count": 116,
   "metadata": {},
   "outputs": [
    {
     "data": {
      "text/plain": [
       "22564198"
      ]
     },
     "execution_count": 116,
     "metadata": {},
     "output_type": "execute_result"
    }
   ],
   "source": [
    "net_prof_loss = sum(row[\"Profit/Losses\"] for row in fin_data)\n",
    "net_prof_loss"
   ]
  },
  {
   "cell_type": "code",
   "execution_count": 117,
   "metadata": {},
   "outputs": [
    {
     "data": {
      "text/plain": [
       "-706444"
      ]
     },
     "execution_count": 117,
     "metadata": {},
     "output_type": "execute_result"
    }
   ],
   "source": [
    "net_change = sum(row[\"Changes\"] for row in fin_data)\n",
    "net_change "
   ]
  },
  {
   "cell_type": "code",
   "execution_count": 118,
   "metadata": {},
   "outputs": [
    {
     "data": {
      "text/plain": [
       "-8311.105882352942"
      ]
     },
     "execution_count": 118,
     "metadata": {},
     "output_type": "execute_result"
    }
   ],
   "source": [
    "avg_change = net_change/ (total_months-1)\n",
    "avg_change"
   ]
  },
  {
   "cell_type": "code",
   "execution_count": 123,
   "metadata": {},
   "outputs": [
    {
     "data": {
      "text/plain": [
       "1862002"
      ]
     },
     "execution_count": 123,
     "metadata": {},
     "output_type": "execute_result"
    }
   ],
   "source": [
    "greatest_increase = max(row[\"Changes\"] for row in fin_data)\n",
    "greatest_increase"
   ]
  },
  {
   "cell_type": "code",
   "execution_count": 125,
   "metadata": {},
   "outputs": [
    {
     "data": {
      "text/plain": [
       "-1825558"
      ]
     },
     "execution_count": 125,
     "metadata": {},
     "output_type": "execute_result"
    }
   ],
   "source": [
    "greatest_decrease = min(row[\"Changes\"] for row in fin_data)\n",
    "greatest_decrease"
   ]
  }
 ],
 "metadata": {
  "kernelspec": {
   "display_name": "Python 3",
   "language": "python",
   "name": "python3"
  },
  "language_info": {
   "codemirror_mode": {
    "name": "ipython",
    "version": 3
   },
   "file_extension": ".py",
   "mimetype": "text/x-python",
   "name": "python",
   "nbconvert_exporter": "python",
   "pygments_lexer": "ipython3",
   "version": "3.11.5"
  }
 },
 "nbformat": 4,
 "nbformat_minor": 2
}
